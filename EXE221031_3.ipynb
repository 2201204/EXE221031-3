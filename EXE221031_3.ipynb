{
  "nbformat": 4,
  "nbformat_minor": 0,
  "metadata": {
    "colab": {
      "provenance": [],
      "authorship_tag": "ABX9TyOhEGlOnevnXFnEtvPQZsre",
      "include_colab_link": true
    },
    "kernelspec": {
      "name": "python3",
      "display_name": "Python 3"
    },
    "language_info": {
      "name": "python"
    }
  },
  "cells": [
    {
      "cell_type": "markdown",
      "metadata": {
        "id": "view-in-github",
        "colab_type": "text"
      },
      "source": [
        "<a href=\"https://colab.research.google.com/github/2201204/EXE221031-3/blob/main/EXE221031_3.ipynb\" target=\"_parent\"><img src=\"https://colab.research.google.com/assets/colab-badge.svg\" alt=\"Open In Colab\"/></a>"
      ]
    },
    {
      "cell_type": "code",
      "execution_count": null,
      "metadata": {
        "id": "yueCvsOk_8UF"
      },
      "outputs": [],
      "source": [
        "import math\n",
        "x1=int(input(\"x1:\"))\n",
        "y1=int(input(\"y1:\"))\n",
        "x2=int(input(\"x2:\"))\n",
        "y2=int(input(\"y2:\"))\n",
        "dist=math.sqrt((x2-x1)**2+(y2-y2**2))\n",
        "print(\"두점사이의 거리는=\",dist)"
      ]
    },
    {
      "cell_type": "code",
      "source": [
        "import time\n",
        "fsecond= time.time()\n",
        "total_sec= int(fsecond)\n",
        "total_min= total_sec//60\n",
        "minute=total_min%60\n",
        "total_hour= total_min//60\n",
        "hour=total_hour%24\n",
        "\n",
        "print(\"현재시각은(영국 그리니치 표준시각):\",str(hour) + \"시\"+str(minute) + \"분\")"
      ],
      "metadata": {
        "colab": {
          "base_uri": "https://localhost:8080/"
        },
        "id": "8-Edia92JmwD",
        "outputId": "319b2046-df03-49f8-99e9-2b20ed999a28"
      },
      "execution_count": 11,
      "outputs": [
        {
          "output_type": "stream",
          "name": "stdout",
          "text": [
            "현재시각은(영국 그리니치 표준시각): 3시50분\n"
          ]
        }
      ]
    },
    {
      "cell_type": "code",
      "source": [],
      "metadata": {
        "id": "_JsWlhd9KdNi"
      },
      "execution_count": null,
      "outputs": []
    }
  ]
}